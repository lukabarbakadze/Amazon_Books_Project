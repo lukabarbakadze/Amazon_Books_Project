{
 "cells": [
  {
   "cell_type": "code",
   "execution_count": 1,
   "metadata": {},
   "outputs": [],
   "source": [
    "import numpy as np\n",
    "import pandas as pd\n",
    "\n",
    "from pathlib import Path\n",
    "from re import sub\n",
    "from decimal import Decimal"
   ]
  },
  {
   "attachments": {},
   "cell_type": "markdown",
   "metadata": {},
   "source": [
    "#### First Look"
   ]
  },
  {
   "cell_type": "code",
   "execution_count": 3,
   "metadata": {},
   "outputs": [],
   "source": [
    "df = pd.read_excel(\"Data\\data.xlsx\")"
   ]
  },
  {
   "cell_type": "code",
   "execution_count": 4,
   "metadata": {},
   "outputs": [
    {
     "data": {
      "text/html": [
       "<div>\n",
       "<style scoped>\n",
       "    .dataframe tbody tr th:only-of-type {\n",
       "        vertical-align: middle;\n",
       "    }\n",
       "\n",
       "    .dataframe tbody tr th {\n",
       "        vertical-align: top;\n",
       "    }\n",
       "\n",
       "    .dataframe thead th {\n",
       "        text-align: right;\n",
       "    }\n",
       "</style>\n",
       "<table border=\"1\" class=\"dataframe\">\n",
       "  <thead>\n",
       "    <tr style=\"text-align: right;\">\n",
       "      <th></th>\n",
       "      <th>Title</th>\n",
       "      <th>Authors</th>\n",
       "      <th>Price</th>\n",
       "      <th>Language</th>\n",
       "      <th>NumOfPages</th>\n",
       "      <th>CostumerRatings</th>\n",
       "      <th>NumOfReviews</th>\n",
       "      <th>BookLink</th>\n",
       "      <th>Comments</th>\n",
       "      <th>search_word</th>\n",
       "    </tr>\n",
       "  </thead>\n",
       "  <tbody>\n",
       "    <tr>\n",
       "      <th>0</th>\n",
       "      <td>Building Analytics Teams: Harnessing analytics...</td>\n",
       "      <td>John K. Thompson</td>\n",
       "      <td>$35.99</td>\n",
       "      <td>English</td>\n",
       "      <td>394.0</td>\n",
       "      <td>4.5 out of 5  ['73%', '11%', '10%', '2%', '4%']</td>\n",
       "      <td>119 global ratings</td>\n",
       "      <td>https://www.amazon.com//gp/slredirect/picassoR...</td>\n",
       "      <td>['I have been doing analytics directly for 3 y...</td>\n",
       "      <td>Data Analytics</td>\n",
       "    </tr>\n",
       "    <tr>\n",
       "      <th>1</th>\n",
       "      <td>SQL QuickStart Guide: The Simplified Beginner'...</td>\n",
       "      <td>Walter Shields</td>\n",
       "      <td>$22.49</td>\n",
       "      <td>English</td>\n",
       "      <td>249.0</td>\n",
       "      <td>4.6 out of 5  ['72%', '18%', '7%', '1%', '2%']</td>\n",
       "      <td>1,368 global ratings</td>\n",
       "      <td>https://www.amazon.com//gp/slredirect/picassoR...</td>\n",
       "      <td>['This book was easy to follow and a great \"Qu...</td>\n",
       "      <td>Data Analytics</td>\n",
       "    </tr>\n",
       "    <tr>\n",
       "      <th>2</th>\n",
       "      <td>Data Analytics, Data Visualization &amp; Communica...</td>\n",
       "      <td>Elizabeth Clarke</td>\n",
       "      <td>$32.12</td>\n",
       "      <td>English</td>\n",
       "      <td>528.0</td>\n",
       "      <td>4.6 out of 5  ['83%', '11%', '0%', '0%', '7%']</td>\n",
       "      <td>22 global ratings</td>\n",
       "      <td>https://www.amazon.com//gp/slredirect/picassoR...</td>\n",
       "      <td>['Don’t have any of the originals…not a proble...</td>\n",
       "      <td>Data Analytics</td>\n",
       "    </tr>\n",
       "    <tr>\n",
       "      <th>3</th>\n",
       "      <td>Hands-On Data Analysis with Pandas: A Python d...</td>\n",
       "      <td>Stefanie Molin</td>\n",
       "      <td>$35.67</td>\n",
       "      <td>English</td>\n",
       "      <td>788.0</td>\n",
       "      <td>4.3 out of 5  ['65%', '18%', '7%', '3%', '6%']</td>\n",
       "      <td>72 global ratings</td>\n",
       "      <td>https://www.amazon.com//gp/slredirect/picassoR...</td>\n",
       "      <td>['This is a killer book for the Python and dat...</td>\n",
       "      <td>Data Analytics</td>\n",
       "    </tr>\n",
       "    <tr>\n",
       "      <th>4</th>\n",
       "      <td>Blueprints for Text Analytics Using Python: Ma...</td>\n",
       "      <td>Christian Winkler  Jens Albrecht</td>\n",
       "      <td>$48.99</td>\n",
       "      <td>English</td>\n",
       "      <td>424.0</td>\n",
       "      <td>4.8 out of 5  ['82%', '18%', '0%', '0%', '0%']</td>\n",
       "      <td>36 global ratings</td>\n",
       "      <td>https://www.amazon.com//Blueprints-Text-Analyt...</td>\n",
       "      <td>[\"I will start with a big thanks to the book a...</td>\n",
       "      <td>Data Analytics</td>\n",
       "    </tr>\n",
       "  </tbody>\n",
       "</table>\n",
       "</div>"
      ],
      "text/plain": [
       "                                               Title  \\\n",
       "0  Building Analytics Teams: Harnessing analytics...   \n",
       "1  SQL QuickStart Guide: The Simplified Beginner'...   \n",
       "2  Data Analytics, Data Visualization & Communica...   \n",
       "3  Hands-On Data Analysis with Pandas: A Python d...   \n",
       "4  Blueprints for Text Analytics Using Python: Ma...   \n",
       "\n",
       "                            Authors   Price Language  NumOfPages  \\\n",
       "0                  John K. Thompson  $35.99  English       394.0   \n",
       "1                    Walter Shields  $22.49  English       249.0   \n",
       "2                  Elizabeth Clarke  $32.12  English       528.0   \n",
       "3                    Stefanie Molin  $35.67  English       788.0   \n",
       "4  Christian Winkler  Jens Albrecht  $48.99  English       424.0   \n",
       "\n",
       "                                   CostumerRatings          NumOfReviews  \\\n",
       "0  4.5 out of 5  ['73%', '11%', '10%', '2%', '4%']    119 global ratings   \n",
       "1   4.6 out of 5  ['72%', '18%', '7%', '1%', '2%']  1,368 global ratings   \n",
       "2   4.6 out of 5  ['83%', '11%', '0%', '0%', '7%']     22 global ratings   \n",
       "3   4.3 out of 5  ['65%', '18%', '7%', '3%', '6%']     72 global ratings   \n",
       "4   4.8 out of 5  ['82%', '18%', '0%', '0%', '0%']     36 global ratings   \n",
       "\n",
       "                                            BookLink  \\\n",
       "0  https://www.amazon.com//gp/slredirect/picassoR...   \n",
       "1  https://www.amazon.com//gp/slredirect/picassoR...   \n",
       "2  https://www.amazon.com//gp/slredirect/picassoR...   \n",
       "3  https://www.amazon.com//gp/slredirect/picassoR...   \n",
       "4  https://www.amazon.com//Blueprints-Text-Analyt...   \n",
       "\n",
       "                                            Comments     search_word  \n",
       "0  ['I have been doing analytics directly for 3 y...  Data Analytics  \n",
       "1  ['This book was easy to follow and a great \"Qu...  Data Analytics  \n",
       "2  ['Don’t have any of the originals…not a proble...  Data Analytics  \n",
       "3  ['This is a killer book for the Python and dat...  Data Analytics  \n",
       "4  [\"I will start with a big thanks to the book a...  Data Analytics  "
      ]
     },
     "execution_count": 4,
     "metadata": {},
     "output_type": "execute_result"
    }
   ],
   "source": [
    "df.head()"
   ]
  },
  {
   "cell_type": "code",
   "execution_count": 5,
   "metadata": {},
   "outputs": [
    {
     "name": "stdout",
     "output_type": "stream",
     "text": [
      "<class 'pandas.core.frame.DataFrame'>\n",
      "RangeIndex: 1093 entries, 0 to 1092\n",
      "Data columns (total 10 columns):\n",
      " #   Column           Non-Null Count  Dtype  \n",
      "---  ------           --------------  -----  \n",
      " 0   Title            1093 non-null   object \n",
      " 1   Authors          1093 non-null   object \n",
      " 2   Price            1093 non-null   object \n",
      " 3   Language         1093 non-null   object \n",
      " 4   NumOfPages       1006 non-null   float64\n",
      " 5   CostumerRatings  1093 non-null   object \n",
      " 6   NumOfReviews     1014 non-null   object \n",
      " 7   BookLink         1093 non-null   object \n",
      " 8   Comments         1093 non-null   object \n",
      " 9   search_word      1093 non-null   object \n",
      "dtypes: float64(1), object(9)\n",
      "memory usage: 85.5+ KB\n"
     ]
    }
   ],
   "source": [
    "df.info()"
   ]
  },
  {
   "cell_type": "code",
   "execution_count": 6,
   "metadata": {},
   "outputs": [
    {
     "data": {
      "text/plain": [
       "Title               0\n",
       "Authors             0\n",
       "Price               0\n",
       "Language            0\n",
       "NumOfPages         87\n",
       "CostumerRatings     0\n",
       "NumOfReviews       79\n",
       "BookLink            0\n",
       "Comments            0\n",
       "search_word         0\n",
       "dtype: int64"
      ]
     },
     "execution_count": 6,
     "metadata": {},
     "output_type": "execute_result"
    }
   ],
   "source": [
    "df.isnull().sum()"
   ]
  },
  {
   "cell_type": "code",
   "execution_count": 7,
   "metadata": {},
   "outputs": [
    {
     "name": "stdout",
     "output_type": "stream",
     "text": [
      "Number of books before droping duplicate records: 1093\n",
      "Number of books after droping duplicate records: 733\n"
     ]
    }
   ],
   "source": [
    "# let's firstly start by dropping duplicate records\n",
    "print(\"Number of books before droping duplicate records: {}\".format(df.shape[0]))\n",
    "df = df.drop_duplicates(subset=\"Title\")\n",
    "print(\"Number of books after droping duplicate records: {}\".format(df.shape[0]))"
   ]
  },
  {
   "cell_type": "code",
   "execution_count": 8,
   "metadata": {},
   "outputs": [
    {
     "name": "stdout",
     "output_type": "stream",
     "text": [
      "Number of Potential Missing Values\n",
      "Column Title: 0\n",
      "Column Authors: 0\n",
      "Column Price: 0\n",
      "Column Language: 0\n",
      "Column CostumerRatings: 61\n",
      "Column NumOfReviews: 0\n",
      "Column BookLink: 0\n"
     ]
    }
   ],
   "source": [
    "# before cleaning each column separately, I want to select strings with length less than 4 as they are potential be missing values\n",
    "print(\"Number of Potential Missing Values\")\n",
    "for column in list(df[[\"Title\", \"Authors\", \"Price\", \"Language\", \"CostumerRatings\", \"NumOfReviews\", \"BookLink\"]].columns):\n",
    "    n_missing = df.loc[df[column].str.len() < 4].shape[0]\n",
    "    print(f\"Column {column}: {n_missing}\")"
   ]
  },
  {
   "attachments": {},
   "cell_type": "markdown",
   "metadata": {},
   "source": [
    "#### Clean each columns"
   ]
  },
  {
   "attachments": {},
   "cell_type": "markdown",
   "metadata": {},
   "source": [
    "**Plan**\n",
    "- Remove any needless strings;\n",
    "- Remove outliers;\n",
    "- Replace scrapping leftovers (\"\", or []) with missing values;\n",
    "- Leave only English Language books;\n",
    "- Extract information about Total Number of Reviews, Average Costumer Ratings and star proportions from CostumerRatings and NumeOfReviews;\n",
    "- Separate comments from each other;\n",
    "- Set appropriate data types for variables."
   ]
  },
  {
   "attachments": {},
   "cell_type": "markdown",
   "metadata": {},
   "source": [
    "##### Price"
   ]
  },
  {
   "cell_type": "code",
   "execution_count": 9,
   "metadata": {},
   "outputs": [
    {
     "name": "stdout",
     "output_type": "stream",
     "text": [
      "Number of records without '$' sign: 47\n",
      "Number of records with length: 93\n"
     ]
    }
   ],
   "source": [
    "# there should not be records without '$' sign. check if there is any\n",
    "print(\"Number of records without '$' sign: {}\".format(df[~df[\"Price\"].str.startswith(\"$\")].shape[0]))\n",
    "# there should not be records with length more than 7 (\"$***.**\") as it's unlikely that books price is more than $1000,00\n",
    "print(\"Number of records with length: {}\".format(df.loc[df[\"Price\"].str.len() > 7].shape[0]))"
   ]
  },
  {
   "cell_type": "code",
   "execution_count": 10,
   "metadata": {},
   "outputs": [
    {
     "data": {
      "text/html": [
       "<div>\n",
       "<style scoped>\n",
       "    .dataframe tbody tr th:only-of-type {\n",
       "        vertical-align: middle;\n",
       "    }\n",
       "\n",
       "    .dataframe tbody tr th {\n",
       "        vertical-align: top;\n",
       "    }\n",
       "\n",
       "    .dataframe thead th {\n",
       "        text-align: right;\n",
       "    }\n",
       "</style>\n",
       "<table border=\"1\" class=\"dataframe\">\n",
       "  <thead>\n",
       "    <tr style=\"text-align: right;\">\n",
       "      <th></th>\n",
       "      <th>Title</th>\n",
       "      <th>Authors</th>\n",
       "      <th>Price</th>\n",
       "      <th>Language</th>\n",
       "      <th>NumOfPages</th>\n",
       "      <th>CostumerRatings</th>\n",
       "      <th>NumOfReviews</th>\n",
       "      <th>BookLink</th>\n",
       "      <th>Comments</th>\n",
       "      <th>search_word</th>\n",
       "    </tr>\n",
       "  </thead>\n",
       "  <tbody>\n",
       "    <tr>\n",
       "      <th>51</th>\n",
       "      <td>Data Analytics in Healthcare Research: Tools a...</td>\n",
       "      <td>Marc and Sandefer</td>\n",
       "      <td>Only 7 left in stock - order soon.</td>\n",
       "      <td>English</td>\n",
       "      <td>344.0</td>\n",
       "      <td>4.7 out of 5  ['82%', '8%', '7%', '3%', '0%']</td>\n",
       "      <td>45 global ratings</td>\n",
       "      <td>https://www.amazon.com//Data-Analytics-Healthc...</td>\n",
       "      <td>[\"Interesting case studies and easy to read. I...</td>\n",
       "      <td>Data Analytics</td>\n",
       "    </tr>\n",
       "    <tr>\n",
       "      <th>77</th>\n",
       "      <td>Fundamentals of Machine Learning for Predictiv...</td>\n",
       "      <td>John D. Kelleher  Brian Mac Namee</td>\n",
       "      <td>Only 16 left in stock (more on the way).</td>\n",
       "      <td>English</td>\n",
       "      <td>856.0</td>\n",
       "      <td>4.9 out of 5  ['90%', '10%', '0%', '0%', '0%']</td>\n",
       "      <td>54 global ratings</td>\n",
       "      <td>https://www.amazon.com//Fundamentals-Machine-L...</td>\n",
       "      <td>['I have IT background as a Python Software De...</td>\n",
       "      <td>Data Analytics</td>\n",
       "    </tr>\n",
       "    <tr>\n",
       "      <th>137</th>\n",
       "      <td>Marketing Strategy: Based on First Principles ...</td>\n",
       "      <td>Shrihari Sridhar</td>\n",
       "      <td>Only 20 left in stock - order soon.</td>\n",
       "      <td>English</td>\n",
       "      <td>350.0</td>\n",
       "      <td>3.9 out of 5  ['67%', '5%', '5%', '4%', '19%']</td>\n",
       "      <td>32 global ratings</td>\n",
       "      <td>https://www.amazon.com//Marketing-Strategy-Bas...</td>\n",
       "      <td>[\"I have been using the first edition to teach...</td>\n",
       "      <td>Data Analytics</td>\n",
       "    </tr>\n",
       "  </tbody>\n",
       "</table>\n",
       "</div>"
      ],
      "text/plain": [
       "                                                 Title  \\\n",
       "51   Data Analytics in Healthcare Research: Tools a...   \n",
       "77   Fundamentals of Machine Learning for Predictiv...   \n",
       "137  Marketing Strategy: Based on First Principles ...   \n",
       "\n",
       "                               Authors  \\\n",
       "51                   Marc and Sandefer   \n",
       "77   John D. Kelleher  Brian Mac Namee   \n",
       "137                   Shrihari Sridhar   \n",
       "\n",
       "                                        Price Language  NumOfPages  \\\n",
       "51         Only 7 left in stock - order soon.  English       344.0   \n",
       "77   Only 16 left in stock (more on the way).  English       856.0   \n",
       "137       Only 20 left in stock - order soon.  English       350.0   \n",
       "\n",
       "                                    CostumerRatings       NumOfReviews  \\\n",
       "51    4.7 out of 5  ['82%', '8%', '7%', '3%', '0%']  45 global ratings   \n",
       "77   4.9 out of 5  ['90%', '10%', '0%', '0%', '0%']  54 global ratings   \n",
       "137  3.9 out of 5  ['67%', '5%', '5%', '4%', '19%']  32 global ratings   \n",
       "\n",
       "                                              BookLink  \\\n",
       "51   https://www.amazon.com//Data-Analytics-Healthc...   \n",
       "77   https://www.amazon.com//Fundamentals-Machine-L...   \n",
       "137  https://www.amazon.com//Marketing-Strategy-Bas...   \n",
       "\n",
       "                                              Comments     search_word  \n",
       "51   [\"Interesting case studies and easy to read. I...  Data Analytics  \n",
       "77   ['I have IT background as a Python Software De...  Data Analytics  \n",
       "137  [\"I have been using the first edition to teach...  Data Analytics  "
      ]
     },
     "execution_count": 10,
     "metadata": {},
     "output_type": "execute_result"
    }
   ],
   "source": [
    "df[~df[\"Price\"].str.startswith(\"$\")].iloc[:3,:]"
   ]
  },
  {
   "cell_type": "code",
   "execution_count": 11,
   "metadata": {},
   "outputs": [],
   "source": [
    "# replace this values with np.nan\n",
    "df.loc[~df[\"Price\"].str.startswith(\"$\"), \"Price\"] = np.nan"
   ]
  },
  {
   "cell_type": "code",
   "execution_count": 12,
   "metadata": {},
   "outputs": [
    {
     "data": {
      "text/plain": [
       "21    $5.00\\n               \\n\\n                Save...\n",
       "41    $13.19\\n               \\n\\n                Sav...\n",
       "58    $2.99\\n               \\n\\n                Save...\n",
       "66    $29.99\\n               \\n\\n                Sav...\n",
       "76    $4.99\\n               \\n\\n                Save...\n",
       "Name: Price, dtype: object"
      ]
     },
     "execution_count": 12,
     "metadata": {},
     "output_type": "execute_result"
    }
   ],
   "source": [
    "df.loc[df[\"Price\"].str.len() > 7][\"Price\"].head(5)"
   ]
  },
  {
   "cell_type": "code",
   "execution_count": 13,
   "metadata": {},
   "outputs": [],
   "source": [
    "# remove any character after first occurence of \\n symbol\n",
    "df.loc[(df[\"Price\"].str.len() > 7), \"Price\"] =  df.loc[df[\"Price\"].str.len() > 7][\"Price\"].apply(lambda x: x[: x.find(\"\\n\")])"
   ]
  },
  {
   "cell_type": "code",
   "execution_count": 14,
   "metadata": {},
   "outputs": [],
   "source": [
    "# remove $ sign from prices and turn them into float type\n",
    "df.loc[df[\"Price\"].notnull(), \"Price\"] = df.loc[df[\"Price\"].notnull(), \"Price\"].apply(lambda x: float(sub(r'[^\\d.]', '', x)))"
   ]
  },
  {
   "cell_type": "code",
   "execution_count": 15,
   "metadata": {},
   "outputs": [],
   "source": [
    "df.rename(columns={\"Price\": \"Price ($)\"}, inplace=True)\n",
    "df[\"Price ($)\"] = df[\"Price ($)\"].astype(\"float\")"
   ]
  },
  {
   "attachments": {},
   "cell_type": "markdown",
   "metadata": {},
   "source": [
    "##### Language"
   ]
  },
  {
   "cell_type": "code",
   "execution_count": 16,
   "metadata": {},
   "outputs": [
    {
     "data": {
      "text/plain": [
       "English    732\n",
       "Spanish      1\n",
       "Name: Language, dtype: int64"
      ]
     },
     "execution_count": 16,
     "metadata": {},
     "output_type": "execute_result"
    }
   ],
   "source": [
    "df.Language.value_counts()"
   ]
  },
  {
   "cell_type": "code",
   "execution_count": 17,
   "metadata": {},
   "outputs": [
    {
     "data": {
      "text/html": [
       "<div>\n",
       "<style scoped>\n",
       "    .dataframe tbody tr th:only-of-type {\n",
       "        vertical-align: middle;\n",
       "    }\n",
       "\n",
       "    .dataframe tbody tr th {\n",
       "        vertical-align: top;\n",
       "    }\n",
       "\n",
       "    .dataframe thead th {\n",
       "        text-align: right;\n",
       "    }\n",
       "</style>\n",
       "<table border=\"1\" class=\"dataframe\">\n",
       "  <thead>\n",
       "    <tr style=\"text-align: right;\">\n",
       "      <th></th>\n",
       "      <th>Title</th>\n",
       "      <th>Authors</th>\n",
       "      <th>Price ($)</th>\n",
       "      <th>Language</th>\n",
       "      <th>NumOfPages</th>\n",
       "      <th>CostumerRatings</th>\n",
       "      <th>NumOfReviews</th>\n",
       "      <th>BookLink</th>\n",
       "      <th>Comments</th>\n",
       "      <th>search_word</th>\n",
       "    </tr>\n",
       "  </thead>\n",
       "  <tbody>\n",
       "    <tr>\n",
       "      <th>1058</th>\n",
       "      <td>The Hundred-Page Machine Learning Book en espa...</td>\n",
       "      <td>Andriy Burkov</td>\n",
       "      <td>43.88</td>\n",
       "      <td>Spanish</td>\n",
       "      <td>186.0</td>\n",
       "      <td>4.4 out of 5  ['77%', '7%', '0%', '8%', '8%']</td>\n",
       "      <td>19 global ratings</td>\n",
       "      <td>https://www.amazon.com//Hundred-Page-Machine-L...</td>\n",
       "      <td>['Me agradó...estoy aprendiendo bastante de él...</td>\n",
       "      <td>Machine Learning</td>\n",
       "    </tr>\n",
       "  </tbody>\n",
       "</table>\n",
       "</div>"
      ],
      "text/plain": [
       "                                                  Title        Authors  \\\n",
       "1058  The Hundred-Page Machine Learning Book en espa...  Andriy Burkov   \n",
       "\n",
       "      Price ($) Language  NumOfPages  \\\n",
       "1058      43.88  Spanish       186.0   \n",
       "\n",
       "                                    CostumerRatings       NumOfReviews  \\\n",
       "1058  4.4 out of 5  ['77%', '7%', '0%', '8%', '8%']  19 global ratings   \n",
       "\n",
       "                                               BookLink  \\\n",
       "1058  https://www.amazon.com//Hundred-Page-Machine-L...   \n",
       "\n",
       "                                               Comments       search_word  \n",
       "1058  ['Me agradó...estoy aprendiendo bastante de él...  Machine Learning  "
      ]
     },
     "execution_count": 17,
     "metadata": {},
     "output_type": "execute_result"
    }
   ],
   "source": [
    "df[df[\"Language\"]==\"Spanish\"]"
   ]
  },
  {
   "cell_type": "code",
   "execution_count": 18,
   "metadata": {},
   "outputs": [],
   "source": [
    "# as there is only one Spanish book, so let's remove it \n",
    "df = df.loc[df[\"Language\"]==\"English\"]"
   ]
  },
  {
   "attachments": {},
   "cell_type": "markdown",
   "metadata": {},
   "source": [
    "##### CostumerRatings & NumOfReviews"
   ]
  },
  {
   "cell_type": "code",
   "execution_count": 19,
   "metadata": {},
   "outputs": [],
   "source": [
    "# exrtact average review from column \"CostumerRatings\"\n",
    "df[\"avg_review\"] = df[\"CostumerRatings\"].apply(lambda x: x[:3])\n",
    "df[\"avg_review\"] = df[\"avg_review\"].str.replace(\"o\", \"\").str.strip()"
   ]
  },
  {
   "cell_type": "code",
   "execution_count": 20,
   "metadata": {},
   "outputs": [],
   "source": [
    "review_df = df[\"CostumerRatings\"].str.split(\",\", expand=True)\n",
    "review_df.columns = [\"5_star\", \"4_star\", \"3_star\", \"2_star\", \"1_star\"]"
   ]
  },
  {
   "cell_type": "code",
   "execution_count": 21,
   "metadata": {},
   "outputs": [
    {
     "data": {
      "text/html": [
       "<div>\n",
       "<style scoped>\n",
       "    .dataframe tbody tr th:only-of-type {\n",
       "        vertical-align: middle;\n",
       "    }\n",
       "\n",
       "    .dataframe tbody tr th {\n",
       "        vertical-align: top;\n",
       "    }\n",
       "\n",
       "    .dataframe thead th {\n",
       "        text-align: right;\n",
       "    }\n",
       "</style>\n",
       "<table border=\"1\" class=\"dataframe\">\n",
       "  <thead>\n",
       "    <tr style=\"text-align: right;\">\n",
       "      <th></th>\n",
       "      <th>5_star</th>\n",
       "      <th>4_star</th>\n",
       "      <th>3_star</th>\n",
       "      <th>2_star</th>\n",
       "      <th>1_star</th>\n",
       "    </tr>\n",
       "  </thead>\n",
       "  <tbody>\n",
       "    <tr>\n",
       "      <th>0</th>\n",
       "      <td>4.5 out of 5  ['73%'</td>\n",
       "      <td>'11%'</td>\n",
       "      <td>'10%'</td>\n",
       "      <td>'2%'</td>\n",
       "      <td>'4%']</td>\n",
       "    </tr>\n",
       "    <tr>\n",
       "      <th>1</th>\n",
       "      <td>4.6 out of 5  ['72%'</td>\n",
       "      <td>'18%'</td>\n",
       "      <td>'7%'</td>\n",
       "      <td>'1%'</td>\n",
       "      <td>'2%']</td>\n",
       "    </tr>\n",
       "    <tr>\n",
       "      <th>2</th>\n",
       "      <td>4.6 out of 5  ['83%'</td>\n",
       "      <td>'11%'</td>\n",
       "      <td>'0%'</td>\n",
       "      <td>'0%'</td>\n",
       "      <td>'7%']</td>\n",
       "    </tr>\n",
       "  </tbody>\n",
       "</table>\n",
       "</div>"
      ],
      "text/plain": [
       "                 5_star  4_star  3_star 2_star  1_star\n",
       "0  4.5 out of 5  ['73%'   '11%'   '10%'   '2%'   '4%']\n",
       "1  4.6 out of 5  ['72%'   '18%'    '7%'   '1%'   '2%']\n",
       "2  4.6 out of 5  ['83%'   '11%'    '0%'   '0%'   '7%']"
      ]
     },
     "execution_count": 21,
     "metadata": {},
     "output_type": "execute_result"
    }
   ],
   "source": [
    "review_df.head(3)"
   ]
  },
  {
   "cell_type": "code",
   "execution_count": 22,
   "metadata": {},
   "outputs": [],
   "source": [
    "# extract percentages from columns\n",
    "review_df[\"5_star\"] = review_df[\"5_star\"].apply(lambda x: x[x.find(\"'\")+1 : x.find(\"'\", x.find(\"'\")+1)])\n",
    "for column in [\"4_star\", \"3_star\", \"2_star\", \"1_star\"]:\n",
    "    review_df[column] = review_df[column].str.replace(\"'\", \"\")\n",
    "review_df[\"1_star\"] = review_df[\"1_star\"].str.replace(\"]\", \"\", regex=False)"
   ]
  },
  {
   "cell_type": "code",
   "execution_count": 23,
   "metadata": {},
   "outputs": [
    {
     "data": {
      "text/html": [
       "<div>\n",
       "<style scoped>\n",
       "    .dataframe tbody tr th:only-of-type {\n",
       "        vertical-align: middle;\n",
       "    }\n",
       "\n",
       "    .dataframe tbody tr th {\n",
       "        vertical-align: top;\n",
       "    }\n",
       "\n",
       "    .dataframe thead th {\n",
       "        text-align: right;\n",
       "    }\n",
       "</style>\n",
       "<table border=\"1\" class=\"dataframe\">\n",
       "  <thead>\n",
       "    <tr style=\"text-align: right;\">\n",
       "      <th></th>\n",
       "      <th>5_star</th>\n",
       "      <th>4_star</th>\n",
       "      <th>3_star</th>\n",
       "      <th>2_star</th>\n",
       "      <th>1_star</th>\n",
       "    </tr>\n",
       "  </thead>\n",
       "  <tbody>\n",
       "    <tr>\n",
       "      <th>0</th>\n",
       "      <td>73%</td>\n",
       "      <td>11%</td>\n",
       "      <td>10%</td>\n",
       "      <td>2%</td>\n",
       "      <td>4%</td>\n",
       "    </tr>\n",
       "    <tr>\n",
       "      <th>1</th>\n",
       "      <td>72%</td>\n",
       "      <td>18%</td>\n",
       "      <td>7%</td>\n",
       "      <td>1%</td>\n",
       "      <td>2%</td>\n",
       "    </tr>\n",
       "    <tr>\n",
       "      <th>2</th>\n",
       "      <td>83%</td>\n",
       "      <td>11%</td>\n",
       "      <td>0%</td>\n",
       "      <td>0%</td>\n",
       "      <td>7%</td>\n",
       "    </tr>\n",
       "  </tbody>\n",
       "</table>\n",
       "</div>"
      ],
      "text/plain": [
       "  5_star 4_star 3_star 2_star 1_star\n",
       "0    73%    11%    10%     2%     4%\n",
       "1    72%    18%     7%     1%     2%\n",
       "2    83%    11%     0%     0%     7%"
      ]
     },
     "execution_count": 23,
     "metadata": {},
     "output_type": "execute_result"
    }
   ],
   "source": [
    "review_df.head(3)"
   ]
  },
  {
   "cell_type": "code",
   "execution_count": 24,
   "metadata": {},
   "outputs": [],
   "source": [
    "df[[\"5_star\", \"4_star\", \"3_star\", \"2_star\", \"1_star\"]] = review_df.values\n",
    "# drop CostumerRatings as I extracted all needed information\n",
    "df.drop([\"CostumerRatings\"], axis=1, inplace=True) "
   ]
  },
  {
   "attachments": {},
   "cell_type": "markdown",
   "metadata": {},
   "source": [
    "##### NumOfReviews"
   ]
  },
  {
   "cell_type": "code",
   "execution_count": 25,
   "metadata": {},
   "outputs": [
    {
     "data": {
      "text/plain": [
       "0      119 global ratings\n",
       "1    1,368 global ratings\n",
       "2       22 global ratings\n",
       "Name: NumOfReviews, dtype: object"
      ]
     },
     "execution_count": 25,
     "metadata": {},
     "output_type": "execute_result"
    }
   ],
   "source": [
    "df.NumOfReviews.head(3)"
   ]
  },
  {
   "cell_type": "code",
   "execution_count": 26,
   "metadata": {},
   "outputs": [],
   "source": [
    "# remove any character after first occurence of \" g\" string\n",
    "df.loc[df[\"NumOfReviews\"].notnull(), \"NumOfReviews\"] = df.loc[df[\"NumOfReviews\"].notnull(), \"NumOfReviews\"].apply(lambda x: x[:x.find(\" g\")])"
   ]
  },
  {
   "cell_type": "code",
   "execution_count": 27,
   "metadata": {},
   "outputs": [
    {
     "data": {
      "text/plain": [
       "0      119\n",
       "1    1,368\n",
       "2       22\n",
       "Name: NumOfReviews, dtype: object"
      ]
     },
     "execution_count": 27,
     "metadata": {},
     "output_type": "execute_result"
    }
   ],
   "source": [
    "df.NumOfReviews.head(3)"
   ]
  },
  {
   "attachments": {},
   "cell_type": "markdown",
   "metadata": {},
   "source": [
    "##### Comments"
   ]
  },
  {
   "cell_type": "code",
   "execution_count": 28,
   "metadata": {},
   "outputs": [
    {
     "name": "stdout",
     "output_type": "stream",
     "text": [
      "Maximum number of comments for signle book is: 15\n"
     ]
    }
   ],
   "source": [
    "# \"\\\\n\\\\n\\\\n\\\\n\\\\n\\\\n\\\\\" separates comments to each other, so I'll split via it to get single comment in each column\n",
    "print(\"Maximum number of comments for signle book is: {}\".format(df[\"Comments\"].apply(lambda x: len(x.split(\"\\\\n\\\\n\\\\n\\\\n\\\\n\\\\n\\\\\"))).max()))"
   ]
  },
  {
   "cell_type": "code",
   "execution_count": 29,
   "metadata": {},
   "outputs": [],
   "source": [
    "# prepare new dataframe to separate comments\n",
    "new_df = pd.DataFrame(np.nan, index=[i for i in range(732)], columns=[\"com1\",\"com2\",\"com3\",\"com4\",\"com5\",\"com6\",\"com7\",\"com8\",\n",
    "                                                                      \"com9\",\"com10\",\"com11\",\"com12\",\"com13\",\"com14\",\"com15\"])"
   ]
  },
  {
   "cell_type": "code",
   "execution_count": 30,
   "metadata": {},
   "outputs": [],
   "source": [
    "# append comments into dataframe\n",
    "for row_index, comments in enumerate(list(df[\"Comments\"].apply(lambda x: x.split(\"\\\\n\\\\n\\\\n\\\\n\\\\n\\\\n\\\\\")))):\n",
    "    num_of_coms = len(comments)\n",
    "    new_df.iloc[row_index, 0:num_of_coms] = comments"
   ]
  },
  {
   "cell_type": "code",
   "execution_count": 31,
   "metadata": {},
   "outputs": [],
   "source": [
    "# try to remove 'Read more, ' string from columns\n",
    "for column in [\"com2\",\"com3\",\"com4\",\"com5\",\"com6\",\"com7\",\"com8\",\"com9\",\"com10\",\"com11\",\"com12\",\"com13\",\"com14\",\"com15\"]:\n",
    "    new_df.loc[new_df[column].notnull(), column] = new_df.loc[new_df[column].notnull(), column].apply(lambda x: x[x.find(\"Read more\")+11:])"
   ]
  },
  {
   "cell_type": "code",
   "execution_count": 32,
   "metadata": {},
   "outputs": [],
   "source": [
    "# some more cleaning\n",
    "for replace_symbol in [\"n\\\\\", \"[\", \"]\",\"\\\\\", \"n          \", \"   \"]:\n",
    "    for column in [\"com1\",\"com2\",\"com3\",\"com4\",\"com5\",\"com6\",\"com7\",\"com8\",\"com9\",\"com10\",\"com11\",\"com12\",\"com13\",\"com14\",\"com15\"]:\n",
    "        new_df.loc[new_df[column].notnull(), column] = new_df.loc[new_df[column].notnull(), column].apply(lambda x: x.replace(replace_symbol,\"\"))"
   ]
  },
  {
   "cell_type": "code",
   "execution_count": 33,
   "metadata": {},
   "outputs": [
    {
     "data": {
      "text/html": [
       "<div>\n",
       "<style scoped>\n",
       "    .dataframe tbody tr th:only-of-type {\n",
       "        vertical-align: middle;\n",
       "    }\n",
       "\n",
       "    .dataframe tbody tr th {\n",
       "        vertical-align: top;\n",
       "    }\n",
       "\n",
       "    .dataframe thead th {\n",
       "        text-align: right;\n",
       "    }\n",
       "</style>\n",
       "<table border=\"1\" class=\"dataframe\">\n",
       "  <thead>\n",
       "    <tr style=\"text-align: right;\">\n",
       "      <th></th>\n",
       "      <th>com1</th>\n",
       "      <th>com2</th>\n",
       "      <th>com3</th>\n",
       "      <th>com4</th>\n",
       "      <th>com5</th>\n",
       "      <th>com6</th>\n",
       "      <th>com7</th>\n",
       "      <th>com8</th>\n",
       "      <th>com9</th>\n",
       "      <th>com10</th>\n",
       "      <th>com11</th>\n",
       "      <th>com12</th>\n",
       "      <th>com13</th>\n",
       "      <th>com14</th>\n",
       "      <th>com15</th>\n",
       "    </tr>\n",
       "  </thead>\n",
       "  <tbody>\n",
       "    <tr>\n",
       "      <th>0</th>\n",
       "      <td>'I have been doing analytics directly for 3 ye...</td>\n",
       "      <td>'Some good ideas based on authors experience,...</td>\n",
       "      <td>\"In a field as specialized as analytics, incl...</td>\n",
       "      <td>\"This book was so inspiring, and I got so man...</td>\n",
       "      <td>'In this overly hyped field, organizations ar...</td>\n",
       "      <td>'John Thompson’s Building Analytics Teams is ...</td>\n",
       "      <td>'I have read this book from the very privileg...</td>\n",
       "      <td>'I highly recommend this book to anyone worki...</td>\n",
       "      <td>'Waste of time and money. Any one who has som...</td>\n",
       "      <td>'This book is not only a technical pleasant a...</td>\n",
       "      <td>'John has struck a blow for analytics teams a...</td>\n",
       "      <td></td>\n",
       "      <td>NaN</td>\n",
       "      <td>NaN</td>\n",
       "      <td>NaN</td>\n",
       "    </tr>\n",
       "    <tr>\n",
       "      <th>1</th>\n",
       "      <td>'This book was easy to follow and a great \"Qui...</td>\n",
       "      <td>'I have gone through five chapters of ten.. I...</td>\n",
       "      <td>'This book was exactly what I needed. Written...</td>\n",
       "      <td>'This is one of the best books of all times a...</td>\n",
       "      <td>'Book is missing some pages. It has reference...</td>\n",
       "      <td>'The free promotional items the company offer...</td>\n",
       "      <td>'On the positive side, there are good, simple...</td>\n",
       "      <td>'Poorly written, lack of sql content deemed a...</td>\n",
       "      <td>\"Simple to follow along and well-written. I w...</td>\n",
       "      <td>'Very Very basic, very short. Find something ...</td>\n",
       "      <td>'Excellent book for beginners</td>\n",
       "      <td></td>\n",
       "      <td>NaN</td>\n",
       "      <td>NaN</td>\n",
       "      <td>NaN</td>\n",
       "    </tr>\n",
       "  </tbody>\n",
       "</table>\n",
       "</div>"
      ],
      "text/plain": [
       "                                                com1  \\\n",
       "0  'I have been doing analytics directly for 3 ye...   \n",
       "1  'This book was easy to follow and a great \"Qui...   \n",
       "\n",
       "                                                com2  \\\n",
       "0   'Some good ideas based on authors experience,...   \n",
       "1   'I have gone through five chapters of ten.. I...   \n",
       "\n",
       "                                                com3  \\\n",
       "0   \"In a field as specialized as analytics, incl...   \n",
       "1   'This book was exactly what I needed. Written...   \n",
       "\n",
       "                                                com4  \\\n",
       "0   \"This book was so inspiring, and I got so man...   \n",
       "1   'This is one of the best books of all times a...   \n",
       "\n",
       "                                                com5  \\\n",
       "0   'In this overly hyped field, organizations ar...   \n",
       "1   'Book is missing some pages. It has reference...   \n",
       "\n",
       "                                                com6  \\\n",
       "0   'John Thompson’s Building Analytics Teams is ...   \n",
       "1   'The free promotional items the company offer...   \n",
       "\n",
       "                                                com7  \\\n",
       "0   'I have read this book from the very privileg...   \n",
       "1   'On the positive side, there are good, simple...   \n",
       "\n",
       "                                                com8  \\\n",
       "0   'I highly recommend this book to anyone worki...   \n",
       "1   'Poorly written, lack of sql content deemed a...   \n",
       "\n",
       "                                                com9  \\\n",
       "0   'Waste of time and money. Any one who has som...   \n",
       "1   \"Simple to follow along and well-written. I w...   \n",
       "\n",
       "                                               com10  \\\n",
       "0   'This book is not only a technical pleasant a...   \n",
       "1   'Very Very basic, very short. Find something ...   \n",
       "\n",
       "                                               com11 com12 com13 com14 com15  \n",
       "0   'John has struck a blow for analytics teams a...         NaN   NaN   NaN  \n",
       "1                      'Excellent book for beginners         NaN   NaN   NaN  "
      ]
     },
     "execution_count": 33,
     "metadata": {},
     "output_type": "execute_result"
    }
   ],
   "source": [
    "new_df.head(2)"
   ]
  },
  {
   "cell_type": "code",
   "execution_count": 34,
   "metadata": {},
   "outputs": [
    {
     "data": {
      "text/plain": [
       "((732, 15), (732, 15))"
      ]
     },
     "execution_count": 34,
     "metadata": {},
     "output_type": "execute_result"
    }
   ],
   "source": [
    "df.reset_index(drop=True, inplace=True)\n",
    "df.shape, new_df.shape"
   ]
  },
  {
   "cell_type": "code",
   "execution_count": 35,
   "metadata": {},
   "outputs": [],
   "source": [
    "df = df.join(new_df)\n",
    "df.drop([\"Comments\"], axis=1, inplace=True) "
   ]
  },
  {
   "cell_type": "code",
   "execution_count": 36,
   "metadata": {},
   "outputs": [],
   "source": [
    "df[\"NumOfReviews\"] = df[\"NumOfReviews\"].str.replace(\",\", \"\").astype(\"float\")"
   ]
  },
  {
   "cell_type": "code",
   "execution_count": 37,
   "metadata": {},
   "outputs": [
    {
     "data": {
      "text/html": [
       "<div>\n",
       "<style scoped>\n",
       "    .dataframe tbody tr th:only-of-type {\n",
       "        vertical-align: middle;\n",
       "    }\n",
       "\n",
       "    .dataframe tbody tr th {\n",
       "        vertical-align: top;\n",
       "    }\n",
       "\n",
       "    .dataframe thead th {\n",
       "        text-align: right;\n",
       "    }\n",
       "</style>\n",
       "<table border=\"1\" class=\"dataframe\">\n",
       "  <thead>\n",
       "    <tr style=\"text-align: right;\">\n",
       "      <th></th>\n",
       "      <th>Title</th>\n",
       "      <th>Authors</th>\n",
       "      <th>Price ($)</th>\n",
       "      <th>Language</th>\n",
       "      <th>NumOfPages</th>\n",
       "      <th>NumOfReviews</th>\n",
       "      <th>BookLink</th>\n",
       "      <th>search_word</th>\n",
       "      <th>avg_review</th>\n",
       "      <th>5_star</th>\n",
       "    </tr>\n",
       "  </thead>\n",
       "  <tbody>\n",
       "    <tr>\n",
       "      <th>0</th>\n",
       "      <td>Building Analytics Teams: Harnessing analytics...</td>\n",
       "      <td>John K. Thompson</td>\n",
       "      <td>35.99</td>\n",
       "      <td>English</td>\n",
       "      <td>394.0</td>\n",
       "      <td>119.0</td>\n",
       "      <td>https://www.amazon.com//gp/slredirect/picassoR...</td>\n",
       "      <td>Data Analytics</td>\n",
       "      <td>4.5</td>\n",
       "      <td>73%</td>\n",
       "    </tr>\n",
       "    <tr>\n",
       "      <th>1</th>\n",
       "      <td>SQL QuickStart Guide: The Simplified Beginner'...</td>\n",
       "      <td>Walter Shields</td>\n",
       "      <td>22.49</td>\n",
       "      <td>English</td>\n",
       "      <td>249.0</td>\n",
       "      <td>1368.0</td>\n",
       "      <td>https://www.amazon.com//gp/slredirect/picassoR...</td>\n",
       "      <td>Data Analytics</td>\n",
       "      <td>4.6</td>\n",
       "      <td>72%</td>\n",
       "    </tr>\n",
       "    <tr>\n",
       "      <th>2</th>\n",
       "      <td>Data Analytics, Data Visualization &amp; Communica...</td>\n",
       "      <td>Elizabeth Clarke</td>\n",
       "      <td>32.12</td>\n",
       "      <td>English</td>\n",
       "      <td>528.0</td>\n",
       "      <td>22.0</td>\n",
       "      <td>https://www.amazon.com//gp/slredirect/picassoR...</td>\n",
       "      <td>Data Analytics</td>\n",
       "      <td>4.6</td>\n",
       "      <td>83%</td>\n",
       "    </tr>\n",
       "    <tr>\n",
       "      <th>3</th>\n",
       "      <td>Hands-On Data Analysis with Pandas: A Python d...</td>\n",
       "      <td>Stefanie Molin</td>\n",
       "      <td>35.67</td>\n",
       "      <td>English</td>\n",
       "      <td>788.0</td>\n",
       "      <td>72.0</td>\n",
       "      <td>https://www.amazon.com//gp/slredirect/picassoR...</td>\n",
       "      <td>Data Analytics</td>\n",
       "      <td>4.3</td>\n",
       "      <td>65%</td>\n",
       "    </tr>\n",
       "    <tr>\n",
       "      <th>4</th>\n",
       "      <td>Blueprints for Text Analytics Using Python: Ma...</td>\n",
       "      <td>Christian Winkler  Jens Albrecht</td>\n",
       "      <td>48.99</td>\n",
       "      <td>English</td>\n",
       "      <td>424.0</td>\n",
       "      <td>36.0</td>\n",
       "      <td>https://www.amazon.com//Blueprints-Text-Analyt...</td>\n",
       "      <td>Data Analytics</td>\n",
       "      <td>4.8</td>\n",
       "      <td>82%</td>\n",
       "    </tr>\n",
       "  </tbody>\n",
       "</table>\n",
       "</div>"
      ],
      "text/plain": [
       "                                               Title  \\\n",
       "0  Building Analytics Teams: Harnessing analytics...   \n",
       "1  SQL QuickStart Guide: The Simplified Beginner'...   \n",
       "2  Data Analytics, Data Visualization & Communica...   \n",
       "3  Hands-On Data Analysis with Pandas: A Python d...   \n",
       "4  Blueprints for Text Analytics Using Python: Ma...   \n",
       "\n",
       "                            Authors  Price ($) Language  NumOfPages  \\\n",
       "0                  John K. Thompson      35.99  English       394.0   \n",
       "1                    Walter Shields      22.49  English       249.0   \n",
       "2                  Elizabeth Clarke      32.12  English       528.0   \n",
       "3                    Stefanie Molin      35.67  English       788.0   \n",
       "4  Christian Winkler  Jens Albrecht      48.99  English       424.0   \n",
       "\n",
       "   NumOfReviews                                           BookLink  \\\n",
       "0         119.0  https://www.amazon.com//gp/slredirect/picassoR...   \n",
       "1        1368.0  https://www.amazon.com//gp/slredirect/picassoR...   \n",
       "2          22.0  https://www.amazon.com//gp/slredirect/picassoR...   \n",
       "3          72.0  https://www.amazon.com//gp/slredirect/picassoR...   \n",
       "4          36.0  https://www.amazon.com//Blueprints-Text-Analyt...   \n",
       "\n",
       "      search_word avg_review 5_star  \n",
       "0  Data Analytics        4.5    73%  \n",
       "1  Data Analytics        4.6    72%  \n",
       "2  Data Analytics        4.6    83%  \n",
       "3  Data Analytics        4.3    65%  \n",
       "4  Data Analytics        4.8    82%  "
      ]
     },
     "execution_count": 37,
     "metadata": {},
     "output_type": "execute_result"
    }
   ],
   "source": [
    "df.iloc[0:5, :10]"
   ]
  },
  {
   "cell_type": "code",
   "execution_count": 38,
   "metadata": {},
   "outputs": [],
   "source": [
    "df.to_excel(\"Data\\cleaned_data.xlsx\", index=False)"
   ]
  }
 ],
 "metadata": {
  "kernelspec": {
   "display_name": "AmazonProject",
   "language": "python",
   "name": "python3"
  },
  "language_info": {
   "codemirror_mode": {
    "name": "ipython",
    "version": 3
   },
   "file_extension": ".py",
   "mimetype": "text/x-python",
   "name": "python",
   "nbconvert_exporter": "python",
   "pygments_lexer": "ipython3",
   "version": "3.9.16 (main, Jan 11 2023, 16:16:36) [MSC v.1916 64 bit (AMD64)]"
  },
  "orig_nbformat": 4,
  "vscode": {
   "interpreter": {
    "hash": "dcac71d7a245953f72217e255b89bf76eb05d249792e3851b1b36f19922568cf"
   }
  }
 },
 "nbformat": 4,
 "nbformat_minor": 2
}
